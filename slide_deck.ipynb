{
 "cells": [
  {
   "cell_type": "markdown",
   "metadata": {
    "slideshow": {
     "slide_type": "slide"
    }
   },
   "source": [
    "# US Flights of 2008\n",
    "## by (Ahmed Almalki)"
   ]
  },
  {
   "cell_type": "markdown",
   "metadata": {
    "slideshow": {
     "slide_type": "slide"
    }
   },
   "source": [
    "## Investigation Overview\n",
    "\n",
    "> Exploring US flights of 2008 and answering on:-\n",
    "> - what are the best states in terms of delayed and cancelled flighes?\n",
    "> - what are the best airlines in terms of delayed and cancelled flighes?\n",
    "> - what are the worst flights in terms of delayed and cancelled flighes?\n",
    "\n",
    "## Dataset Overview\n",
    "\n",
    "> The dataset reports flights in the United States, including carriers, arrival and departure delays from 1987 to 2008. Actually, the report treated flight details of 2008 which is (7,009,728) observations."
   ]
  },
  {
   "cell_type": "code",
   "execution_count": 1,
   "metadata": {
    "slideshow": {
     "slide_type": "skip"
    }
   },
   "outputs": [],
   "source": [
    "# import all packages and set plots to be embedded inline\n",
    "import numpy as np\n",
    "import pandas as pd\n",
    "import matplotlib.pyplot as plt\n",
    "import seaborn as sb\n",
    "\n",
    "%matplotlib inline\n",
    "\n",
    "# suppress warnings from final output\n",
    "import warnings\n",
    "warnings.simplefilter(\"ignore\")"
   ]
  },
  {
   "cell_type": "code",
   "execution_count": 2,
   "metadata": {
    "slideshow": {
     "slide_type": "skip"
    }
   },
   "outputs": [],
   "source": [
    "# load in the dataset into a pandas dataframe\n",
    "df = pd.read_csv('2008.csv')\n",
    "df_airports = pd.read_csv('airports.csv')\n",
    "df_airlines = pd.read_csv('carriers.csv')"
   ]
  },
  {
   "cell_type": "markdown",
   "metadata": {
    "slideshow": {
     "slide_type": "notes"
    }
   },
   "source": [
    "> Note that the above cells have been set as \"Skip\"-type slides. That means\n",
    "that when the notebook is rendered as http slides, those cells won't show up."
   ]
  },
  {
   "cell_type": "markdown",
   "metadata": {
    "slideshow": {
     "slide_type": "slide"
    }
   },
   "source": [
    "## (Visualization 1)\n",
    "\n",
    "> Write a comment about your visualization here. The visualization should be in\n",
    "the next cell, as a sub-slide type. Make sure your visualizations are polished!"
   ]
  },
  {
   "cell_type": "code",
   "execution_count": 3,
   "metadata": {
    "slideshow": {
     "slide_type": "skip"
    }
   },
   "outputs": [],
   "source": [
    "airlines_mean = df.groupby('UniqueCarrier', as_index=False).mean()\n",
    "airlines_count = df.groupby('UniqueCarrier', as_index=False).count()\n",
    "\n",
    "airlines = airlines_mean[['UniqueCarrier','ArrDelay','Cancelled']].merge(\n",
    "    airlines_count[['UniqueCarrier','Year']], on='UniqueCarrier'\n",
    ")\n",
    "airlines.rename(columns={'Year':'Count'}, inplace=True)\n",
    "\n",
    "airlines['Size'] = airlines.Count.map(lambda x: round(x/120000)+1)\n",
    "airlines['Size'] = airlines.Size.map(lambda x: 7 if x>7 else x)"
   ]
  },
  {
   "cell_type": "code",
   "execution_count": 12,
   "metadata": {
    "scrolled": false
   },
   "outputs": [
    {
     "data": {
      "image/png": "[encoded data removed]",
      "text/plain": [
       "<Figure size 1080x720 with 1 Axes>"
      ]
     },
     "metadata": {
      "needs_background": "light"
     },
     "output_type": "display_data"
    }
   ],
   "source": [
    "plt.figure(figsize=[15,10])\n",
    "plt.scatter(airlines.ArrDelay, airlines.Cancelled, s=airlines.Size**4)\n",
    "\n",
    "x_max = max(airlines.ArrDelay)\n",
    "x_min = min(airlines.ArrDelay)\n",
    "\n",
    "y_max = max(airlines.Cancelled)\n",
    "y_min = min(airlines.Cancelled)\n",
    "\n",
    "x_len =  x_max - x_min\n",
    "y_len =  y_max - y_min\n",
    "\n",
    "x = x_len*.05\n",
    "y = y_len*.05\n",
    "\n",
    "plt.xlim(x_min-x, x_max+x)\n",
    "plt.ylim(y_min-y, y_max+y)\n",
    "plt.axhline(y=y_max-(y_len/2))\n",
    "plt.axvline(x_max - (x_len/2))\n",
    "\n",
    "for i, txt in enumerate(airlines.UniqueCarrier):\n",
    "    plt.annotate(txt, (airlines.ArrDelay[i]*1.02, airlines.Cancelled[i]*1.02));\n"
   ]
  },
  {
   "cell_type": "markdown",
   "metadata": {
    "collapsed": true,
    "slideshow": {
     "slide_type": "slide"
    }
   },
   "source": [
    "## (Visualization 2)\n",
    "\n",
    "> You should have at least three visualizations in your presentation,\n",
    "but feel free to add more if you'd like!"
   ]
  },
  {
   "cell_type": "code",
   "execution_count": null,
   "metadata": {
    "slideshow": {
     "slide_type": "subslide"
    }
   },
   "outputs": [],
   "source": []
  },
  {
   "cell_type": "markdown",
   "metadata": {
    "slideshow": {
     "slide_type": "slide"
    }
   },
   "source": [
    "## (Visualization 3)\n",
    "\n"
   ]
  },
  {
   "cell_type": "code",
   "execution_count": null,
   "metadata": {
    "slideshow": {
     "slide_type": "subslide"
    }
   },
   "outputs": [],
   "source": []
  },
  {
   "cell_type": "markdown",
   "metadata": {
    "slideshow": {
     "slide_type": "notes"
    }
   },
   "source": [
    "> Once you're ready to finish your presentation, check your output by using\n",
    "nbconvert to export the notebook and set up a server for the slides. From the\n",
    "terminal or command line, use the following expression:\n",
    "> > `jupyter nbconvert <file_name>.ipynb --to slides --post serve --template output_toggle`\n",
    "\n",
    "> This should open a tab in your web browser where you can scroll through your\n",
    "presentation. Sub-slides can be accessed by pressing 'down' when viewing its parent\n",
    "slide. Make sure you remove all of the quote-formatted guide notes like this one\n",
    "before you finish your presentation!"
   ]
  },
  {
   "cell_type": "code",
   "execution_count": null,
   "metadata": {},
   "outputs": [],
   "source": [
    "# from subprocess import call\n",
    "# call(['python', '-m', 'nbconvert', 'wrangle_report.ipynb'])\n",
    "\n",
    "!jupyter nbconvert slide_deck_template.ipynb --to slides --post serve --template output_toggle"
   ]
  },
  {
   "cell_type": "code",
   "execution_count": null,
   "metadata": {},
   "outputs": [],
   "source": []
  }
 ],
 "metadata": {
  "celltoolbar": "Slideshow",
  "kernelspec": {
   "display_name": "Python 3",
   "language": "python",
   "name": "python3"
  },
  "language_info": {
   "codemirror_mode": {
    "name": "ipython",
    "version": 3
   },
   "file_extension": ".py",
   "mimetype": "text/x-python",
   "name": "python",
   "nbconvert_exporter": "python",
   "pygments_lexer": "ipython3",
   "version": "3.7.2"
  }
 },
 "nbformat": 4,
 "nbformat_minor": 2
}
