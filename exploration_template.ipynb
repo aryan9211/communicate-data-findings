{
 "cells": [
  {
   "cell_type": "markdown",
   "metadata": {},
   "source": [
    "# (Dataset Exploration Title)\n",
    "## by (Ahmed Almalki)\n",
    "\n",
    "## Preliminary Wrangling\n",
    "\n",
    "> Briefly introduce your dataset here."
   ]
  },
  {
   "cell_type": "code",
   "execution_count": 8,
   "metadata": {},
   "outputs": [],
   "source": [
    "# import all packages and set plots to be embedded inline\n",
    "import numpy as np\n",
    "import pandas as pd\n",
    "import matplotlib.pyplot as plt\n",
    "import seaborn as sb\n",
    "\n",
    "%matplotlib inline\n",
    "\n",
    "from zipfile import ZipFile\n",
    "from urllib.request import urlopen  \n",
    "import os"
   ]
  },
  {
   "cell_type": "code",
   "execution_count": 9,
   "metadata": {},
   "outputs": [],
   "source": [
    "# # gathering flights details for 3 years (2006 - 2008) \n",
    "\n",
    "# df = pd.DataFrame()\n",
    "# for i in range(6,9):\n",
    "#     url = 'http://stat-computing.org/dataexpo/2009/20{:02d}.csv.bz2'.format(i)\n",
    "#     file_name = '20{:02d}.bz2'.format(i)\n",
    "    \n",
    "#     url_object = urlopen(url)\n",
    "#     output = open(file_name, 'wb')\n",
    "#     output.write(url_object.read())\n",
    "#     output.close()\n",
    "    \n",
    "#     df = df.append(pd.read_csv(file_name), ignore_index=True)\n",
    "#     os.remove(file_name)"
   ]
  },
  {
   "cell_type": "markdown",
   "metadata": {},
   "source": [
    "> The plan was to gather data for three years (2006, 2007 & 2008). However it is very rendering time expensive because of the detaset size which is (21,604,865) observations. So, the dataset will be exclusive on 2008 which is (7,009,728) observations."
   ]
  },
  {
   "cell_type": "code",
   "execution_count": 10,
   "metadata": {},
   "outputs": [],
   "source": [
    "df = pd.read_csv('2008.csv')"
   ]
  },
  {
   "cell_type": "code",
   "execution_count": 11,
   "metadata": {
    "scrolled": true
   },
   "outputs": [],
   "source": [
    "# df['Date'] = pd.to_datetime(df.Year.astype('str').str.zfill(4) + \\\n",
    "#                             df.Month.astype('str').str.zfill(2) + \\\n",
    "#                             df.DayofMonth.astype('str').str.zfill(2)\n",
    "#                             , format='%Y%m%d')\n"
   ]
  },
  {
   "cell_type": "markdown",
   "metadata": {},
   "source": [
    "| Name\t|   Description |\n",
    "| ---|---|\n",
    "| Year\t|   1987-2008 |\n",
    "| Month\t|   1-12 |\n",
    "| DayofMonth\t|   1-31 |\n",
    "| DayOfWeek\t|   1 (Monday) - 7 (Sunday) |\n",
    "| DepTime\t|   actual departure time (local, hhmm) |\n",
    "| CRSDepTime\t|   scheduled departure time (local, hhmm) |\n",
    "| ArrTime\t|   actual arrival time (local, hhmm) |\n",
    "| CRSArrTime\t|   scheduled arrival time (local, hhmm) |\n",
    "| UniqueCarrier\t|   unique carrier code |\n",
    "| FlightNum\t|   flight number |\n",
    "| TailNum\t|   plane tail number |\n",
    "| ActualElapsedTime\t|   in minutes |\n",
    "| CRSElapsedTime\t|   in minutes |\n",
    "| AirTime\t|   in minutes |\n",
    "| ArrDelay\t|   arrival delay, in minutes |\n",
    "| DepDelay\t|   departure delay, in minutes |\n",
    "| Origin\t|   origin IATA airport code |\n",
    "| Dest\t|   destination IATA airport code |\n",
    "| Distance\t|   in miles |\n",
    "| TaxiIn\t|   taxi in time, in minutes |\n",
    "| TaxiOut\t|   taxi out time in minutes |\n",
    "| Cancelled\t|   was the flight cancelled? |\n",
    "| CancellationCode\t|   reason for cancellation (A = carrier, B = weather, C = NAS, D = security) |\n",
    "| Diverted\t|   1 = yes, 0 = no |\n",
    "| CarrierDelay\t|   in minutes |\n",
    "| WeatherDelay\t|   in minutes |\n",
    "| NASDelay\t|   in minutes |\n",
    "| SecurityDelay\t|   in minutes |\n",
    "| LateAircraftDelay\t|   in minutes |"
   ]
  },
  {
   "cell_type": "code",
   "execution_count": 12,
   "metadata": {},
   "outputs": [],
   "source": [
    "# df_2008['DepTime'] = df_2008.DepTime.apply(lambda x: str(int(x)).zfill(4) if pd.notnull(x) else x)\n",
    "# df_2008['CRSDepTime'] = df_2008.CRSDepTime.apply(lambda x: str(int(x)).zfill(4) if pd.notnull(x) else x)\n",
    "# df_2008['ArrTime'] = df_2008.ArrTime.apply(lambda x: str(int(x)).zfill(4) if pd.notnull(x) else x)\n",
    "# df_2008['CRSArrTime'] = df_2008.CRSArrTime.apply(lambda x: str(int(x)).zfill(4) if pd.notnull(x) else x)"
   ]
  },
  {
   "cell_type": "code",
   "execution_count": 13,
   "metadata": {},
   "outputs": [],
   "source": [
    "# df_2008.loc[df_2008.DepTime == '2400','DepTime'] = '0000'"
   ]
  },
  {
   "cell_type": "markdown",
   "metadata": {},
   "source": [
    "### What is the structure of your dataset?\n",
    "\n",
    "> There are 7,009,728 flight observations with 30 features in 2008.\n",
    "\n",
    "### What is/are the main feature(s) of interest in your dataset?\n",
    "\n",
    "> delayed and canceled flights in terms fo carriers, airports & time.\n",
    "\n",
    "### What features in the dataset do you think will help support your investigation into your feature(s) of interest?\n",
    "\n",
    "> - `ArrDelay`, `DepDelay`, `CarrierDelay`, `WeatherDelay`, `NASDelay`, `SecurityDelay`, `LateAircraftDelay`.\n",
    "> - `Cancelled` & `CancellationCode`.\n",
    "> - `Month`, `DayofMonth`, `DayOfWeek`, `DepTime`, `CRSDepTime`, `ArrTime`, `CRSArrTime`, `UniqueCarrier`, `Origin` & `Dest`.\n"
   ]
  },
  {
   "cell_type": "markdown",
   "metadata": {},
   "source": [
    "## Univariate Exploration\n",
    "\n",
    "> In this section, investigate distributions of individual variables. If\n",
    "you see unusual points or outliers, take a deeper look to clean things up\n",
    "and prepare yourself to look at relationships between variables."
   ]
  },
  {
   "cell_type": "code",
   "execution_count": 46,
   "metadata": {
    "scrolled": true
   },
   "outputs": [
    {
     "data": {
      "text/plain": [
       "<matplotlib.axes._subplots.AxesSubplot at 0x1a279d5908>"
      ]
     },
     "execution_count": 46,
     "metadata": {},
     "output_type": "execute_result"
    },
    {
     "data": {
      "image/png": "[encoded data removed]",
      "text/plain": [
       "<Figure size 432x288 with 1 Axes>"
      ]
     },
     "metadata": {
      "needs_background": "light"
     },
     "output_type": "display_data"
    }
   ],
   "source": [
    "color = sb.color_palette()[0]\n",
    "carrier_sort = df.UniqueCarrier.value_counts().index\n",
    "sb.countplot(data=df, x='UniqueCarrier', color=color, order=carrier_sort)"
   ]
  },
  {
   "cell_type": "markdown",
   "metadata": {},
   "source": [
    "> There are differentiation of flights quantity among airlines."
   ]
  },
  {
   "cell_type": "code",
   "execution_count": 155,
   "metadata": {
    "scrolled": true
   },
   "outputs": [
    {
     "data": {
      "text/plain": [
       "(-25, 200)"
      ]
     },
     "execution_count": 155,
     "metadata": {},
     "output_type": "execute_result"
    },
    {
     "data": {
      "image/png": "[encoded data removed]",
      "text/plain": [
       "<Figure size 432x288 with 1 Axes>"
      ]
     },
     "metadata": {
      "needs_background": "light"
     },
     "output_type": "display_data"
    }
   ],
   "source": [
    "step = 5\n",
    "bin_edges = np.arange(df.DepDelay.min()-step, df.DepDelay.max()+step, step)\n",
    "plt.hist(df.DepDelay, bins=bin_edges)\n",
    "plt.xlim(-25,200)\n",
    "# plt.xticks(np.arange(-25,200,25))"
   ]
  },
  {
   "cell_type": "code",
   "execution_count": 146,
   "metadata": {
    "scrolled": false
   },
   "outputs": [
    {
     "data": {
      "text/plain": [
       "([<matplotlib.axis.XTick at 0x1aa2788ac8>,\n",
       "  <matplotlib.axis.XTick at 0x1aa2788400>,\n",
       "  <matplotlib.axis.XTick at 0x1aa2783240>,\n",
       "  <matplotlib.axis.XTick at 0x1aa2859a90>,\n",
       "  <matplotlib.axis.XTick at 0x1aa2859f28>,\n",
       "  <matplotlib.axis.XTick at 0x1aa2861438>,\n",
       "  <matplotlib.axis.XTick at 0x1aa2861908>,\n",
       "  <matplotlib.axis.XTick at 0x1aa2861dd8>,\n",
       "  <matplotlib.axis.XTick at 0x1aa28692e8>,\n",
       "  <matplotlib.axis.XTick at 0x1aa28619e8>,\n",
       "  <matplotlib.axis.XTick at 0x1aa2869390>],\n",
       " <a list of 11 Text xticklabel objects>)"
      ]
     },
     "execution_count": 146,
     "metadata": {},
     "output_type": "execute_result"
    },
    {
     "data": {
      "image/png": "[encoded data removed]",
      "text/plain": [
       "<Figure size 1080x144 with 1 Axes>"
      ]
     },
     "metadata": {
      "needs_background": "light"
     },
     "output_type": "display_data"
    }
   ],
   "source": [
    "plt.figure(figsize=[15,2])\n",
    "plt.boxplot(x=df.DepDelay, vert=False, showfliers=False)\n",
    "plt.xticks(np.arange(-25,30, 5))"
   ]
  },
  {
   "cell_type": "markdown",
   "metadata": {},
   "source": [
    "> There are delayed departures as well as earlier departures & the most of them are between -25 to 30 min differ of the scheduled time. However, there is a flight has been delayed more than 1 day and 17 hours, and also there is a flight had be earlier around 9 hours of the schedule time."
   ]
  },
  {
   "cell_type": "code",
   "execution_count": 77,
   "metadata": {
    "scrolled": true
   },
   "outputs": [
    {
     "data": {
      "text/plain": [
       "(-55, 250)"
      ]
     },
     "execution_count": 77,
     "metadata": {},
     "output_type": "execute_result"
    },
    {
     "data": {
      "image/png": "[encoded data removed]",
      "text/plain": [
       "<Figure size 432x288 with 1 Axes>"
      ]
     },
     "metadata": {
      "needs_background": "light"
     },
     "output_type": "display_data"
    }
   ],
   "source": [
    "step = 5\n",
    "bin_edges = np.arange(df.ArrDelay.min()-step, df.ArrDelay.max()+step, step)\n",
    "plt.hist(df.ArrDelay, bins=bin_edges)\n",
    "plt.xlim(-55,250)\n",
    "# plt.xticks(np.arange(-55,275,25))"
   ]
  },
  {
   "cell_type": "code",
   "execution_count": 175,
   "metadata": {
    "scrolled": false
   },
   "outputs": [
    {
     "data": {
      "text/plain": [
       "([<matplotlib.axis.XTick at 0x1a9285a2b0>,\n",
       "  <matplotlib.axis.XTick at 0x1a9282cba8>,\n",
       "  <matplotlib.axis.XTick at 0x1a92828160>,\n",
       "  <matplotlib.axis.XTick at 0x1a92882240>,\n",
       "  <matplotlib.axis.XTick at 0x1a928826d8>,\n",
       "  <matplotlib.axis.XTick at 0x1a92882ba8>,\n",
       "  <matplotlib.axis.XTick at 0x1a9288b128>,\n",
       "  <matplotlib.axis.XTick at 0x1a9288b588>,\n",
       "  <matplotlib.axis.XTick at 0x1a9288ba58>,\n",
       "  <matplotlib.axis.XTick at 0x1a92882fd0>,\n",
       "  <matplotlib.axis.XTick at 0x1a9288bb38>,\n",
       "  <matplotlib.axis.XTick at 0x1a92894160>,\n",
       "  <matplotlib.axis.XTick at 0x1a928945f8>,\n",
       "  <matplotlib.axis.XTick at 0x1a92894ac8>,\n",
       "  <matplotlib.axis.XTick at 0x1a92894e80>,\n",
       "  <matplotlib.axis.XTick at 0x1a9289b4a8>,\n",
       "  <matplotlib.axis.XTick at 0x1a9289b978>,\n",
       "  <matplotlib.axis.XTick at 0x1a9289be48>,\n",
       "  <matplotlib.axis.XTick at 0x1a9289b940>],\n",
       " <a list of 19 Text xticklabel objects>)"
      ]
     },
     "execution_count": 175,
     "metadata": {},
     "output_type": "execute_result"
    },
    {
     "data": {
      "image/png": "[encoded data removed]",
      "text/plain": [
       "<Figure size 1080x144 with 1 Axes>"
      ]
     },
     "metadata": {
      "needs_background": "light"
     },
     "output_type": "display_data"
    }
   ],
   "source": [
    "plt.figure(figsize=[15,2])\n",
    "plt.boxplot(x=df[pd.notnull(df.ArrDelay)].ArrDelay, vert=False, showfliers=False)\n",
    "plt.xticks(np.arange(-45,50, 5))"
   ]
  },
  {
   "cell_type": "markdown",
   "metadata": {},
   "source": [
    "> There are delayed arrival as well as earlier arrival & the most of them are between -45 to 50 min differ of the scheduled time."
   ]
  },
  {
   "cell_type": "code",
   "execution_count": null,
   "metadata": {},
   "outputs": [],
   "source": []
  },
  {
   "cell_type": "markdown",
   "metadata": {},
   "source": [
    "### Discuss the distribution(s) of your variable(s) of interest. Were there any unusual points? Did you need to perform any transformations?\n",
    "\n",
    "> Your answer here!\n",
    "\n",
    "### Of the features you investigated, were there any unusual distributions? Did you perform any operations on the data to tidy, adjust, or change the form of the data? If so, why did you do this?\n",
    "\n",
    "> Your answer here!"
   ]
  },
  {
   "cell_type": "markdown",
   "metadata": {},
   "source": [
    "## Bivariate Exploration\n",
    "\n",
    "> In this section, investigate relationships between pairs of variables in your\n",
    "data. Make sure the variables that you cover here have been introduced in some\n",
    "fashion in the previous section (univariate exploration)."
   ]
  },
  {
   "cell_type": "code",
   "execution_count": null,
   "metadata": {},
   "outputs": [],
   "source": []
  },
  {
   "cell_type": "markdown",
   "metadata": {},
   "source": [
    "### Talk about some of the relationships you observed in this part of the investigation. How did the feature(s) of interest vary with other features in the dataset?\n",
    "\n",
    "> Your answer here!\n",
    "\n",
    "### Did you observe any interesting relationships between the other features (not the main feature(s) of interest)?\n",
    "\n",
    "> Your answer here!"
   ]
  },
  {
   "cell_type": "markdown",
   "metadata": {},
   "source": [
    "## Multivariate Exploration\n",
    "\n",
    "> Create plots of three or more variables to investigate your data even\n",
    "further. Make sure that your investigations are justified, and follow from\n",
    "your work in the previous sections."
   ]
  },
  {
   "cell_type": "code",
   "execution_count": null,
   "metadata": {},
   "outputs": [],
   "source": []
  },
  {
   "cell_type": "markdown",
   "metadata": {},
   "source": [
    "### Talk about some of the relationships you observed in this part of the investigation. Were there features that strengthened each other in terms of looking at your feature(s) of interest?\n",
    "\n",
    "> Your answer here!\n",
    "\n",
    "### Were there any interesting or surprising interactions between features?\n",
    "\n",
    "> Your answer here!"
   ]
  },
  {
   "cell_type": "markdown",
   "metadata": {},
   "source": [
    "> At the end of your report, make sure that you export the notebook as an\n",
    "html file from the `File > Download as... > HTML` menu. Make sure you keep\n",
    "track of where the exported file goes, so you can put it in the same folder\n",
    "as this notebook for project submission. Also, make sure you remove all of\n",
    "the quote-formatted guide notes like this one before you finish your report!"
   ]
  },
  {
   "cell_type": "code",
   "execution_count": null,
   "metadata": {},
   "outputs": [],
   "source": []
  }
 ],
 "metadata": {
  "kernelspec": {
   "display_name": "Python 3",
   "language": "python",
   "name": "python3"
  },
  "language_info": {
   "codemirror_mode": {
    "name": "ipython",
    "version": 3
   },
   "file_extension": ".py",
   "mimetype": "text/x-python",
   "name": "python",
   "nbconvert_exporter": "python",
   "pygments_lexer": "ipython3",
   "version": "3.7.2"
  }
 },
 "nbformat": 4,
 "nbformat_minor": 2
}
